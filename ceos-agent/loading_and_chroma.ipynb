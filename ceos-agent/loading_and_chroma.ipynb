{
 "cells": [
  {
   "cell_type": "markdown",
   "metadata": {},
   "source": [
    "## Required Imports"
   ]
  },
  {
   "cell_type": "code",
   "execution_count": 8,
   "metadata": {},
   "outputs": [],
   "source": [
    "from langchain.document_loaders import UnstructuredFileLoader\n",
    "from unstructured.cleaners.core import clean_extra_whitespace\n",
    "from langchain.text_splitter import RecursiveCharacterTextSplitter"
   ]
  },
  {
   "cell_type": "markdown",
   "metadata": {},
   "source": [
    "## Setup the UnstructuredFileLoader to process a HTML file"
   ]
  },
  {
   "cell_type": "code",
   "execution_count": 9,
   "metadata": {},
   "outputs": [],
   "source": [
    "loader = UnstructuredFileLoader(\n",
    "    file_path=\"data/user/cb-smarter-building-dhc-service-3.html\",\n",
    "    strategy=\"hi-res\",  # other option:\"fast\"\n",
    "    mode=\"single\",  # single (default), elements, paged (for PDFs)\n",
    "    post_processors=[clean_extra_whitespace],\n",
    ")\n",
    "\n",
    "docs = loader.load()"
   ]
  },
  {
   "cell_type": "markdown",
   "metadata": {},
   "source": [
    "## Iterate through the HTML file and extract the data"
   ]
  },
  {
   "cell_type": "code",
   "execution_count": 10,
   "metadata": {},
   "outputs": [
    {
     "name": "stdout",
     "output_type": "stream",
     "text": [
      "page_content='Crossbreed Smarter Building DHC Service\\n\\nMario Toffia\\n\\nmario.toffia@crossbreed.se\\n\\nTable of Contents\\n\\nAbstract\\n\\nCapabilities Energy efficiency Operation of heating system Calculation\\n\\nProcesses Communication of Data-point from Controller Resolution Settings Algorithm\\n\\nSensors\\n\\nOnboarding\\n\\nColophon\\n\\nThis chapter outlines Crossbreed Smarter Building DHC [1] Service and the capabilities and processes connected to it.\\n\\nAbstract\\n\\nCrossbreed Smarter Building DHC, is an OEM service for district heating equipment providers offered to their customers, the property owners or energy operators, enabling energy optimization and monitoring of district heating systems in buildings.\\n\\nThanks to a combination of different securely integrated data sources and embedded AI algorithms, the Service supports the heating system to reduce energy usage in buildings without renouncing comfort and indoor climate.\\n\\nParallel to lowering the energy costs for building owners and providing better control of the heating system for the energy operator, the Service also reduces the buildings climate impact.\\n\\nThe Service can be used for apartment buildings, commercial buildings, and other premises with district heating as heat source. With minor adjustments the solution could be adopted to thermal controller units supporting heat pumps, gas boilers or district cooling.\\n\\nCapabilities\\n\\nBy using multiple data sources and AI algorithms the Service reduces the energy demand (kWh) in the building, supporting the heating circuit to dynamically adapt to the real need of the property, instead of the static setting of the heating system (normally based only on the outdoor temperature).\\n\\nEnergy efficiency\\n\\nThe Service measures and analyses the buildings heating system and energy needs continuously and in real-time.\\n\\nBy analyzing and learning the buildings heating patterns, profile, and thermal storage capacity (thermal inertia), and by adding social and external factors like weather to the calculation, the system autonomously learns to use only the amount of energy actually needed. These intelligent operations will generate lower energy usage, with a retained comfortable indoor climate.\\n\\nOperation of heating system\\n\\nThe Service uses the controller’s existing heating curve to influence the heating. This is done by the AI functionality of the Service calculating an offset value, normally an addition to the measured outdoor temperature, which shifts the set-point for supply temperature via the heating curve. In this way, the extraction of heat can be affected. The Service has safety functions that ensure that the controller unit returns to regular temperature control (should the service for instance be offline).\\n\\n— Heating-system Adaptation\\n\\nThe Service uses a predefined target temperature (i.e. 21 degrees with upper and lower boundaries) to dynamically adjust the heating so that the average indoor temperature is controlled towards this target temperature. The Service calculates the offset to adjust the heating approximately every 15 minutes.\\n\\nCalculation\\n\\nThe Service uses the calculation methodology “Normal year correction using energy signature” as it gives the fairest energy optimization result. The energy saving is calculated as the difference between reference days (24 hours without the service controlling) and service days (24 hours with the service controlling). The savings are reported without heating for domestic hot water.\\n\\nProcesses\\n\\nThe Service imports a defined list of data points from the district heating substation, the heat meter and indoor sensors, and exports a control parameter, which is calculated using the list of data, external data sources and algorithms. The control parameter is used by the district heating substations to reduce heating to a level that corresponds to the buildings actual heat demand, as described above.\\n\\nCommunication of Data-point from Controller\\n\\nThe service requires communication of the I/O-list as defined in table below. The unit-column describes the units used by the service. The interval column defines the required interval of data communication.\\n\\nName Remote ID CbID Unit Interval Direction Mandatory Comment Supply temperature primary side <fill in here> MPST °C ⇐ 1h → Yes Heat meter Return temperature primary side <fill in here> MPRT °C ⇐ 1h → Yes Heat meter Aggregated massflow primary side <fill in here> AMFPS m3/h ⇐ 1h → Yes Heat meter Massflow primary side <fill in here> MFPS m3 ⇐ 1h → Yes Heat meter Aggregated energy usage primary side <fill in here> AEUPS kWh ⇐ 1h → Yes Heat meter Heat demand primary side <fill in here> HDPS kW ⇐ 1h → Yes Heat meter\\n\\nThe above table outlines the datapoints that are required to an evaluation of how much energy is saved by the service [2]. It is not, however, crucial for the building service to function. The interval is one hour or less but it is possible to e.g. collect this data every 24hours or so since they are used for regression analysis and not for real-time control.\\n\\nThat the ACTODT and OFFODT may be optional but a another way of controlling and monitoring the remote system is needed in that case.\\n\\nName Remote ID CbID Unit Interval Direction Mandatory Comment The real outdoor temperature <fill in here> ODT °C ⇐ 15min → Yes Real ODT Acting outdoor temperature <fill in here> ACTODT °C ⇐ 15min → Yes Fake ODT Supply temperature heating circuit <fill in here> SSHCT °C ⇐ 15min → Yes Controller [ 3 ] Return temperature heating circuit <fill in here> RSHCT °C ⇐ 15min → Yes Controller [ 4 ] Indoor temperature <fill in here> IDT_O1..n °C ⇐ 15min → Yes Sensor data [ 5 ] Outdoor temperature offset <fill in here> OFFODT °C ⇐ 15min ← Yes The crossbreed offset control signal [ 6 ]\\n\\nThe IDT sensors should be at least five per building body. Thus, if the heating circuit passes three building bodies, 15 sensors (5 per each) are required. The control gets better up to 20 - 40 sensors, but it is not linear better, instead it provides less and less to the accuracy of the control.\\n\\nIf the ODT is missing, the service may use the location of the building and use weather service to get the ODT . This is not recommended since the ODT is a very important parameter for the service.\\n\\nResolution\\n\\nBelow table defines the required resolution per unit of measure.\\n\\nUnit Required Resolution °C 0.1 °C kW 0.1 kW kWh 0.1 kWh m3 0.1 m3 l/h 0.1 l/h\\n\\nThe control signal provided by the Service is limited in magnitude according to: -12 °C ≤ Outdoor temperature offset ≤ +12 °C.\\n\\nCEOS [7] have the ability to translate different Units if required.\\n\\nSettings\\n\\nThe following settings are required by the Service. The settings are defined as part of the provisioning of a specific customer installation.\\n\\nSettings Description Target Temperature Desired average indoor temperature Limit low The limit in indoor temperature under which the Service will not send a control signal (if any indoor sensor that is part of the control is below this limit, it is not desireable to reduce heating further). Shorter periods below this limit is allowed by the algorithm. Balance temperature The limit outdoor temperature above which the heating system will not provider heating to the building. This is a setting the substation controller, normally defined by the temperature program.\\n\\nIt is great if the remote endpoint do provide with these as data points or configuration that the user may change. In that way, CEOS may ingest those, live, and alter the control signal accordingly.\\n\\nAlgorithm\\n\\nThe algorithm calculates the control signal based on the I/O-list, the settings described in Table 3, and outdoor temperature forecasts. The algorithm determines if it is possible to reduce heating, and how much, based on its inputs, historical data and forecast data. The control signal is used to reduce heating only, (i.e., heating is not increased by the Service). The actions of the algorithm are described in below table.\\n\\nAction Reason Control against target Indoor temperature within boundary Max control intensity Indoor temperature is high Control hysteresis Delayed control. Indoor temperature dips during a short time. Rollback Rolling back to no offset (slope based) No control action Missing data or indoor temperature too low during too long time.\\n\\nSensors\\n\\nThe sensor data is processed in a machine learning algorithm. Most notable is the climate data points where the IDT sensors are calculated using a normal distribution curve. Hence, it is important to install sensors so they have extremes and in the middle most of the sensors providing with representative data points.\\n\\nFigure 1. Indoor Climate Distribution\\n\\nThe algorithms, filters out bad sensor readings but it is important to have a good sensor coverage. However, it is equal important to have the extremes represented. E.g IDT on the north side of the building should be lower than on the south side. It may be rooms that are not representative by the majority of the rooms in the building. If five sensors are installed, use two to represents each side of the extremes and the other three as representative readings.\\n\\nOnboarding\\n\\nThe Service and units are provisioned via a Crossbreed support Web interface or via Crossbreed Simple APIs and the Customer needs to be on-/off boarded semi-/automatic by Crossbreed Service Desk.\\n\\nColophon\\n\\nThe Crossbreed AB Company\\n\\n© 2022 by Crossbreed AB\\n\\nPublished in the Crossbreed Build System\\n\\nThis information is produced by Crossbreed and is Copyright Crossbreed AB\\n\\n1. District Heating & Cooling\\n\\n2. This is required to drive network algorithms.\\n\\n3. There might be serval of these (e.g. one for each radiator or ventilation circuit)\\n\\n4. There might be serval of these (e.g. one for each radiator or ventilation circuit)\\n\\n5. A minimum of five indoor temperature sensors per building block. I worst case, it may handle sensor updates every one hour.\\n\\n6. Offset + Actual = Active (outdoor temperature). If this is\\n\\n7. Crossbreed Energy OS\\n\\nLast updated 2023-06-07 07:33:06 +0200' metadata={'source': 'data/user/cb-smarter-building-dhc-service-3.html'}\n"
     ]
    }
   ],
   "source": [
    "for doc in docs:\n",
    "    print(doc)"
   ]
  },
  {
   "cell_type": "markdown",
   "metadata": {},
   "source": [
    "## Use Recursive Character Splitter for HTML docs"
   ]
  },
  {
   "cell_type": "code",
   "execution_count": 14,
   "metadata": {},
   "outputs": [
    {
     "name": "stdout",
     "output_type": "stream",
     "text": [
      "page_content='Crossbreed Smarter Building DHC Service\\n\\nMario Toffia\\n\\nmario.toffia@crossbreed.se\\n\\nTable of Contents\\n\\nAbstract\\n\\nCapabilities Energy efficiency Operation of heating system Calculation\\n\\nProcesses Communication of Data-point from Controller Resolution Settings Algorithm\\n\\nSensors\\n\\nOnboarding\\n\\nColophon' metadata={'source': 'data/user/cb-smarter-building-dhc-service-3.html'}\n",
      "page_content='Sensors\\n\\nOnboarding\\n\\nColophon\\n\\nThis chapter outlines Crossbreed Smarter Building DHC [1] Service and the capabilities and processes connected to it.\\n\\nAbstract' metadata={'source': 'data/user/cb-smarter-building-dhc-service-3.html'}\n",
      "page_content='Abstract\\n\\nCrossbreed Smarter Building DHC, is an OEM service for district heating equipment providers offered to their customers, the property owners or energy operators, enabling energy optimization and monitoring of district heating systems in buildings.' metadata={'source': 'data/user/cb-smarter-building-dhc-service-3.html'}\n",
      "page_content='Thanks to a combination of different securely integrated data sources and embedded AI algorithms, the Service supports the heating system to reduce energy usage in buildings without renouncing comfort and indoor climate.' metadata={'source': 'data/user/cb-smarter-building-dhc-service-3.html'}\n",
      "page_content='Parallel to lowering the energy costs for building owners and providing better control of the heating system for the energy operator, the Service also reduces the buildings climate impact.' metadata={'source': 'data/user/cb-smarter-building-dhc-service-3.html'}\n",
      "page_content='The Service can be used for apartment buildings, commercial buildings, and other premises with district heating as heat source. With minor adjustments the solution could be adopted to thermal controller units supporting heat pumps, gas boilers or district cooling.\\n\\nCapabilities' metadata={'source': 'data/user/cb-smarter-building-dhc-service-3.html'}\n",
      "page_content='Capabilities\\n\\nBy using multiple data sources and AI algorithms the Service reduces the energy demand (kWh) in the building, supporting the heating circuit to dynamically adapt to the real need of the property, instead of the static setting of the heating system (normally based only on the outdoor temperature).\\n\\nEnergy efficiency' metadata={'source': 'data/user/cb-smarter-building-dhc-service-3.html'}\n",
      "page_content='Energy efficiency\\n\\nThe Service measures and analyses the buildings heating system and energy needs continuously and in real-time.' metadata={'source': 'data/user/cb-smarter-building-dhc-service-3.html'}\n",
      "page_content='By analyzing and learning the buildings heating patterns, profile, and thermal storage capacity (thermal inertia), and by adding social and external factors like weather to the calculation, the system autonomously learns to use only the amount of energy actually needed. These intelligent operations will generate lower energy usage, with a retained comfortable indoor climate.' metadata={'source': 'data/user/cb-smarter-building-dhc-service-3.html'}\n",
      "page_content='Operation of heating system' metadata={'source': 'data/user/cb-smarter-building-dhc-service-3.html'}\n",
      "page_content='The Service uses the controller’s existing heating curve to influence the heating. This is done by the AI functionality of the Service calculating an offset value, normally an addition to the measured outdoor temperature, which shifts the set-point for supply temperature via the heating curve. In this way, the extraction of heat can be affected. The Service has safety functions that ensure that' metadata={'source': 'data/user/cb-smarter-building-dhc-service-3.html'}\n",
      "page_content='this way, the extraction of heat can be affected. The Service has safety functions that ensure that the controller unit returns to regular temperature control (should the service for instance be offline).' metadata={'source': 'data/user/cb-smarter-building-dhc-service-3.html'}\n",
      "page_content='— Heating-system Adaptation\\n\\nThe Service uses a predefined target temperature (i.e. 21 degrees with upper and lower boundaries) to dynamically adjust the heating so that the average indoor temperature is controlled towards this target temperature. The Service calculates the offset to adjust the heating approximately every 15 minutes.\\n\\nCalculation' metadata={'source': 'data/user/cb-smarter-building-dhc-service-3.html'}\n",
      "page_content='Calculation\\n\\nThe Service uses the calculation methodology “Normal year correction using energy signature” as it gives the fairest energy optimization result. The energy saving is calculated as the difference between reference days (24 hours without the service controlling) and service days (24 hours with the service controlling). The savings are reported without heating for domestic hot water.' metadata={'source': 'data/user/cb-smarter-building-dhc-service-3.html'}\n",
      "page_content='Processes' metadata={'source': 'data/user/cb-smarter-building-dhc-service-3.html'}\n",
      "page_content='The Service imports a defined list of data points from the district heating substation, the heat meter and indoor sensors, and exports a control parameter, which is calculated using the list of data, external data sources and algorithms. The control parameter is used by the district heating substations to reduce heating to a level that corresponds to the buildings actual heat demand, as described' metadata={'source': 'data/user/cb-smarter-building-dhc-service-3.html'}\n",
      "page_content='to reduce heating to a level that corresponds to the buildings actual heat demand, as described above.' metadata={'source': 'data/user/cb-smarter-building-dhc-service-3.html'}\n",
      "page_content='Communication of Data-point from Controller\\n\\nThe service requires communication of the I/O-list as defined in table below. The unit-column describes the units used by the service. The interval column defines the required interval of data communication.' metadata={'source': 'data/user/cb-smarter-building-dhc-service-3.html'}\n",
      "page_content='Name Remote ID CbID Unit Interval Direction Mandatory Comment Supply temperature primary side <fill in here> MPST °C ⇐ 1h → Yes Heat meter Return temperature primary side <fill in here> MPRT °C ⇐ 1h → Yes Heat meter Aggregated massflow primary side <fill in here> AMFPS m3/h ⇐ 1h → Yes Heat meter Massflow primary side <fill in here> MFPS m3 ⇐ 1h → Yes Heat meter Aggregated energy usage primary' metadata={'source': 'data/user/cb-smarter-building-dhc-service-3.html'}\n",
      "page_content='Massflow primary side <fill in here> MFPS m3 ⇐ 1h → Yes Heat meter Aggregated energy usage primary side <fill in here> AEUPS kWh ⇐ 1h → Yes Heat meter Heat demand primary side <fill in here> HDPS kW ⇐ 1h → Yes Heat meter' metadata={'source': 'data/user/cb-smarter-building-dhc-service-3.html'}\n",
      "page_content='The above table outlines the datapoints that are required to an evaluation of how much energy is saved by the service [2]. It is not, however, crucial for the building service to function. The interval is one hour or less but it is possible to e.g. collect this data every 24hours or so since they are used for regression analysis and not for real-time control.' metadata={'source': 'data/user/cb-smarter-building-dhc-service-3.html'}\n",
      "page_content='That the ACTODT and OFFODT may be optional but a another way of controlling and monitoring the remote system is needed in that case.' metadata={'source': 'data/user/cb-smarter-building-dhc-service-3.html'}\n",
      "page_content='Name Remote ID CbID Unit Interval Direction Mandatory Comment The real outdoor temperature <fill in here> ODT °C ⇐ 15min → Yes Real ODT Acting outdoor temperature <fill in here> ACTODT °C ⇐ 15min → Yes Fake ODT Supply temperature heating circuit <fill in here> SSHCT °C ⇐ 15min → Yes Controller [ 3 ] Return temperature heating circuit <fill in here> RSHCT °C ⇐ 15min → Yes Controller [ 4 ] Indoor' metadata={'source': 'data/user/cb-smarter-building-dhc-service-3.html'}\n",
      "page_content='] Return temperature heating circuit <fill in here> RSHCT °C ⇐ 15min → Yes Controller [ 4 ] Indoor temperature <fill in here> IDT_O1..n °C ⇐ 15min → Yes Sensor data [ 5 ] Outdoor temperature offset <fill in here> OFFODT °C ⇐ 15min ← Yes The crossbreed offset control signal [ 6 ]' metadata={'source': 'data/user/cb-smarter-building-dhc-service-3.html'}\n",
      "page_content='The IDT sensors should be at least five per building body. Thus, if the heating circuit passes three building bodies, 15 sensors (5 per each) are required. The control gets better up to 20 - 40 sensors, but it is not linear better, instead it provides less and less to the accuracy of the control.' metadata={'source': 'data/user/cb-smarter-building-dhc-service-3.html'}\n",
      "page_content='If the ODT is missing, the service may use the location of the building and use weather service to get the ODT . This is not recommended since the ODT is a very important parameter for the service.\\n\\nResolution\\n\\nBelow table defines the required resolution per unit of measure.\\n\\nUnit Required Resolution °C 0.1 °C kW 0.1 kW kWh 0.1 kWh m3 0.1 m3 l/h 0.1 l/h' metadata={'source': 'data/user/cb-smarter-building-dhc-service-3.html'}\n",
      "page_content='Unit Required Resolution °C 0.1 °C kW 0.1 kW kWh 0.1 kWh m3 0.1 m3 l/h 0.1 l/h\\n\\nThe control signal provided by the Service is limited in magnitude according to: -12 °C ≤ Outdoor temperature offset ≤ +12 °C.\\n\\nCEOS [7] have the ability to translate different Units if required.\\n\\nSettings' metadata={'source': 'data/user/cb-smarter-building-dhc-service-3.html'}\n",
      "page_content='CEOS [7] have the ability to translate different Units if required.\\n\\nSettings\\n\\nThe following settings are required by the Service. The settings are defined as part of the provisioning of a specific customer installation.' metadata={'source': 'data/user/cb-smarter-building-dhc-service-3.html'}\n",
      "page_content='Settings Description Target Temperature Desired average indoor temperature Limit low The limit in indoor temperature under which the Service will not send a control signal (if any indoor sensor that is part of the control is below this limit, it is not desireable to reduce heating further). Shorter periods below this limit is allowed by the algorithm. Balance temperature The limit outdoor' metadata={'source': 'data/user/cb-smarter-building-dhc-service-3.html'}\n",
      "page_content='Shorter periods below this limit is allowed by the algorithm. Balance temperature The limit outdoor temperature above which the heating system will not provider heating to the building. This is a setting the substation controller, normally defined by the temperature program.' metadata={'source': 'data/user/cb-smarter-building-dhc-service-3.html'}\n",
      "page_content='It is great if the remote endpoint do provide with these as data points or configuration that the user may change. In that way, CEOS may ingest those, live, and alter the control signal accordingly.\\n\\nAlgorithm' metadata={'source': 'data/user/cb-smarter-building-dhc-service-3.html'}\n",
      "page_content='The algorithm calculates the control signal based on the I/O-list, the settings described in Table 3, and outdoor temperature forecasts. The algorithm determines if it is possible to reduce heating, and how much, based on its inputs, historical data and forecast data. The control signal is used to reduce heating only, (i.e., heating is not increased by the Service). The actions of the algorithm' metadata={'source': 'data/user/cb-smarter-building-dhc-service-3.html'}\n",
      "page_content='reduce heating only, (i.e., heating is not increased by the Service). The actions of the algorithm are described in below table.' metadata={'source': 'data/user/cb-smarter-building-dhc-service-3.html'}\n",
      "page_content='Action Reason Control against target Indoor temperature within boundary Max control intensity Indoor temperature is high Control hysteresis Delayed control. Indoor temperature dips during a short time. Rollback Rolling back to no offset (slope based) No control action Missing data or indoor temperature too low during too long time.\\n\\nSensors' metadata={'source': 'data/user/cb-smarter-building-dhc-service-3.html'}\n",
      "page_content='Sensors\\n\\nThe sensor data is processed in a machine learning algorithm. Most notable is the climate data points where the IDT sensors are calculated using a normal distribution curve. Hence, it is important to install sensors so they have extremes and in the middle most of the sensors providing with representative data points.\\n\\nFigure 1. Indoor Climate Distribution' metadata={'source': 'data/user/cb-smarter-building-dhc-service-3.html'}\n",
      "page_content='The algorithms, filters out bad sensor readings but it is important to have a good sensor coverage. However, it is equal important to have the extremes represented. E.g IDT on the north side of the building should be lower than on the south side. It may be rooms that are not representative by the majority of the rooms in the building. If five sensors are installed, use two to represents each side' metadata={'source': 'data/user/cb-smarter-building-dhc-service-3.html'}\n",
      "page_content='of the rooms in the building. If five sensors are installed, use two to represents each side of the extremes and the other three as representative readings.' metadata={'source': 'data/user/cb-smarter-building-dhc-service-3.html'}\n",
      "page_content='Onboarding\\n\\nThe Service and units are provisioned via a Crossbreed support Web interface or via Crossbreed Simple APIs and the Customer needs to be on-/off boarded semi-/automatic by Crossbreed Service Desk.\\n\\nColophon\\n\\nThe Crossbreed AB Company\\n\\n© 2022 by Crossbreed AB\\n\\nPublished in the Crossbreed Build System\\n\\nThis information is produced by Crossbreed and is Copyright Crossbreed AB' metadata={'source': 'data/user/cb-smarter-building-dhc-service-3.html'}\n",
      "page_content='This information is produced by Crossbreed and is Copyright Crossbreed AB\\n\\n1. District Heating & Cooling\\n\\n2. This is required to drive network algorithms.\\n\\n3. There might be serval of these (e.g. one for each radiator or ventilation circuit)\\n\\n4. There might be serval of these (e.g. one for each radiator or ventilation circuit)' metadata={'source': 'data/user/cb-smarter-building-dhc-service-3.html'}\n",
      "page_content='4. There might be serval of these (e.g. one for each radiator or ventilation circuit)\\n\\n5. A minimum of five indoor temperature sensors per building block. I worst case, it may handle sensor updates every one hour.\\n\\n6. Offset + Actual = Active (outdoor temperature). If this is\\n\\n7. Crossbreed Energy OS\\n\\nLast updated 2023-06-07 07:33:06 +0200' metadata={'source': 'data/user/cb-smarter-building-dhc-service-3.html'}\n"
     ]
    }
   ],
   "source": [
    "text_splitter = RecursiveCharacterTextSplitter(chunk_size=400, chunk_overlap=100)\n",
    "docs = text_splitter.split_documents(docs)\n",
    "\n",
    "for doc in docs:\n",
    "    print(doc)"
   ]
  },
  {
   "cell_type": "markdown",
   "metadata": {},
   "source": [
    "## Load the docs into chroma db"
   ]
  },
  {
   "cell_type": "code",
   "execution_count": null,
   "metadata": {},
   "outputs": [],
   "source": [
    "from langchain.vectorstores.chroma import Chroma\n",
    "from langchain.embeddings import OpenAIEmbeddings\n",
    "\n",
    "#embeddings = OpenAIEmbeddings(openai_api_key=os.environ[\"OPENAI_API_KEY\"])\n",
    "#vector_store = Chroma(embeddings=embeddings)\n",
    "#\n",
    "#vector_store.from_texts(\n",
    "#            texts=texts,\n",
    "#            metadatas=metadata,\n",
    "#            persist_directory=self.embeddings_path,\n",
    "#            embedding=self.embeddings,\n",
    "#        )"
   ]
  }
 ],
 "metadata": {
  "kernelspec": {
   "display_name": "chainlit",
   "language": "python",
   "name": "python3"
  },
  "language_info": {
   "codemirror_mode": {
    "name": "ipython",
    "version": 3
   },
   "file_extension": ".py",
   "mimetype": "text/x-python",
   "name": "python",
   "nbconvert_exporter": "python",
   "pygments_lexer": "ipython3",
   "version": "3.11.6"
  }
 },
 "nbformat": 4,
 "nbformat_minor": 2
}
