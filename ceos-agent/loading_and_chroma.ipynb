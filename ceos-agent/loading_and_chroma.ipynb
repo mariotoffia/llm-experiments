{
 "cells": [
  {
   "cell_type": "markdown",
   "metadata": {},
   "source": [
    "## Links\n",
    "\n",
    "https://medium.com/@onkarmishra/using-langchain-for-question-answering-on-own-data-3af0a82789ed\n",
    "https://github.com/langchain-ai/langchain/tree/master/templates\n",
    "https://unstructured-io.github.io/unstructured/core/embedding.html\n",
    "https://github.com/langchain-ai/langchain/blob/master/templates/rag-conversation/rag_conversation/chain.py\n",
    "https://python.langchain.com/docs/modules/data_connection/retrievers/contextual_compression/\n",
    "https://python.langchain.com/docs/expression_language/cookbook/retrieval"
   ]
  },
  {
   "cell_type": "markdown",
   "metadata": {},
   "source": [
    "## Required Imports"
   ]
  },
  {
   "cell_type": "code",
   "execution_count": 16,
   "metadata": {},
   "outputs": [],
   "source": [
    "from langchain.document_loaders import UnstructuredFileLoader\n",
    "from unstructured.cleaners.core import clean_extra_whitespace\n",
    "from langchain.text_splitter import RecursiveCharacterTextSplitter\n",
    "from langchain.vectorstores.chroma import Chroma\n",
    "from langchain.embeddings import OpenAIEmbeddings\n",
    "import os"
   ]
  },
  {
   "cell_type": "markdown",
   "metadata": {},
   "source": [
    "## Setup the UnstructuredFileLoader to process a HTML file"
   ]
  },
  {
   "cell_type": "code",
   "execution_count": 31,
   "metadata": {},
   "outputs": [],
   "source": [
    "loader = UnstructuredFileLoader(\n",
    "    file_path=\"data/user/cb-smarter-building-dhc-service-3.html\",\n",
    "    strategy=\"hi-res\",  # other option:\"fast\"\n",
    "    mode=\"single\",  # single (default), elements, paged (for PDFs)\n",
    "    post_processors=[clean_extra_whitespace],\n",
    ")\n",
    "\n",
    "docs = loader.load()"
   ]
  },
  {
   "cell_type": "markdown",
   "metadata": {},
   "source": [
    "## Iterate through the HTML file and extract the data"
   ]
  },
  {
   "cell_type": "code",
   "execution_count": 32,
   "metadata": {},
   "outputs": [
    {
     "name": "stdout",
     "output_type": "stream",
     "text": [
      "page_content='Crossbreed Smarter Building DHC Service\\n\\nMario Toffia\\n\\nmario.toffia@crossbreed.se\\n\\nTable of Contents\\n\\nAbstract\\n\\nCapabilities Energy efficiency Operation of heating system Calculation\\n\\nProcesses Communication of Data-point from Controller Resolution Settings Algorithm\\n\\nSensors\\n\\nOnboarding\\n\\nColophon\\n\\nThis chapter outlines Crossbreed Smarter Building DHC [1] Service and the capabilities and processes connected to it.\\n\\nAbstract\\n\\nCrossbreed Smarter Building DHC, is an OEM service for district heating equipment providers offered to their customers, the property owners or energy operators, enabling energy optimization and monitoring of district heating systems in buildings.\\n\\nThanks to a combination of different securely integrated data sources and embedded AI algorithms, the Service supports the heating system to reduce energy usage in buildings without renouncing comfort and indoor climate.\\n\\nParallel to lowering the energy costs for building owners and providing better control of the heating system for the energy operator, the Service also reduces the buildings climate impact.\\n\\nThe Service can be used for apartment buildings, commercial buildings, and other premises with district heating as heat source. With minor adjustments the solution could be adopted to thermal controller units supporting heat pumps, gas boilers or district cooling.\\n\\nCapabilities\\n\\nBy using multiple data sources and AI algorithms the Service reduces the energy demand (kWh) in the building, supporting the heating circuit to dynamically adapt to the real need of the property, instead of the static setting of the heating system (normally based only on the outdoor temperature).\\n\\nEnergy efficiency\\n\\nThe Service measures and analyses the buildings heating system and energy needs continuously and in real-time.\\n\\nBy analyzing and learning the buildings heating patterns, profile, and thermal storage capacity (thermal inertia), and by adding social and external factors like weather to the calculation, the system autonomously learns to use only the amount of energy actually needed. These intelligent operations will generate lower energy usage, with a retained comfortable indoor climate.\\n\\nOperation of heating system\\n\\nThe Service uses the controller’s existing heating curve to influence the heating. This is done by the AI functionality of the Service calculating an offset value, normally an addition to the measured outdoor temperature, which shifts the set-point for supply temperature via the heating curve. In this way, the extraction of heat can be affected. The Service has safety functions that ensure that the controller unit returns to regular temperature control (should the service for instance be offline).\\n\\n— Heating-system Adaptation\\n\\nThe Service uses a predefined target temperature (i.e. 21 degrees with upper and lower boundaries) to dynamically adjust the heating so that the average indoor temperature is controlled towards this target temperature. The Service calculates the offset to adjust the heating approximately every 15 minutes.\\n\\nCalculation\\n\\nThe Service uses the calculation methodology “Normal year correction using energy signature” as it gives the fairest energy optimization result. The energy saving is calculated as the difference between reference days (24 hours without the service controlling) and service days (24 hours with the service controlling). The savings are reported without heating for domestic hot water.\\n\\nProcesses\\n\\nThe Service imports a defined list of data points from the district heating substation, the heat meter and indoor sensors, and exports a control parameter, which is calculated using the list of data, external data sources and algorithms. The control parameter is used by the district heating substations to reduce heating to a level that corresponds to the buildings actual heat demand, as described above.\\n\\nCommunication of Data-point from Controller\\n\\nThe service requires communication of the I/O-list as defined in table below. The unit-column describes the units used by the service. The interval column defines the required interval of data communication.\\n\\nName Remote ID CbID Unit Interval Direction Mandatory Comment Supply temperature primary side <fill in here> MPST °C ⇐ 1h → Yes Heat meter Return temperature primary side <fill in here> MPRT °C ⇐ 1h → Yes Heat meter Aggregated massflow primary side <fill in here> AMFPS m3/h ⇐ 1h → Yes Heat meter Massflow primary side <fill in here> MFPS m3 ⇐ 1h → Yes Heat meter Aggregated energy usage primary side <fill in here> AEUPS kWh ⇐ 1h → Yes Heat meter Heat demand primary side <fill in here> HDPS kW ⇐ 1h → Yes Heat meter\\n\\nThe above table outlines the datapoints that are required to an evaluation of how much energy is saved by the service [2]. It is not, however, crucial for the building service to function. The interval is one hour or less but it is possible to e.g. collect this data every 24hours or so since they are used for regression analysis and not for real-time control.\\n\\nThat the ACTODT and OFFODT may be optional but a another way of controlling and monitoring the remote system is needed in that case.\\n\\nName Remote ID CbID Unit Interval Direction Mandatory Comment The real outdoor temperature <fill in here> ODT °C ⇐ 15min → Yes Real ODT Acting outdoor temperature <fill in here> ACTODT °C ⇐ 15min → Yes Fake ODT Supply temperature heating circuit <fill in here> SSHCT °C ⇐ 15min → Yes Controller [ 3 ] Return temperature heating circuit <fill in here> RSHCT °C ⇐ 15min → Yes Controller [ 4 ] Indoor temperature <fill in here> IDT_O1..n °C ⇐ 15min → Yes Sensor data [ 5 ] Outdoor temperature offset <fill in here> OFFODT °C ⇐ 15min ← Yes The crossbreed offset control signal [ 6 ]\\n\\nThe IDT sensors should be at least five per building body. Thus, if the heating circuit passes three building bodies, 15 sensors (5 per each) are required. The control gets better up to 20 - 40 sensors, but it is not linear better, instead it provides less and less to the accuracy of the control.\\n\\nIf the ODT is missing, the service may use the location of the building and use weather service to get the ODT . This is not recommended since the ODT is a very important parameter for the service.\\n\\nResolution\\n\\nBelow table defines the required resolution per unit of measure.\\n\\nUnit Required Resolution °C 0.1 °C kW 0.1 kW kWh 0.1 kWh m3 0.1 m3 l/h 0.1 l/h\\n\\nThe control signal provided by the Service is limited in magnitude according to: -12 °C ≤ Outdoor temperature offset ≤ +12 °C.\\n\\nCEOS [7] have the ability to translate different Units if required.\\n\\nSettings\\n\\nThe following settings are required by the Service. The settings are defined as part of the provisioning of a specific customer installation.\\n\\nSettings Description Target Temperature Desired average indoor temperature Limit low The limit in indoor temperature under which the Service will not send a control signal (if any indoor sensor that is part of the control is below this limit, it is not desireable to reduce heating further). Shorter periods below this limit is allowed by the algorithm. Balance temperature The limit outdoor temperature above which the heating system will not provider heating to the building. This is a setting the substation controller, normally defined by the temperature program.\\n\\nIt is great if the remote endpoint do provide with these as data points or configuration that the user may change. In that way, CEOS may ingest those, live, and alter the control signal accordingly.\\n\\nAlgorithm\\n\\nThe algorithm calculates the control signal based on the I/O-list, the settings described in Table 3, and outdoor temperature forecasts. The algorithm determines if it is possible to reduce heating, and how much, based on its inputs, historical data and forecast data. The control signal is used to reduce heating only, (i.e., heating is not increased by the Service). The actions of the algorithm are described in below table.\\n\\nAction Reason Control against target Indoor temperature within boundary Max control intensity Indoor temperature is high Control hysteresis Delayed control. Indoor temperature dips during a short time. Rollback Rolling back to no offset (slope based) No control action Missing data or indoor temperature too low during too long time.\\n\\nSensors\\n\\nThe sensor data is processed in a machine learning algorithm. Most notable is the climate data points where the IDT sensors are calculated using a normal distribution curve. Hence, it is important to install sensors so they have extremes and in the middle most of the sensors providing with representative data points.\\n\\nFigure 1. Indoor Climate Distribution\\n\\nThe algorithms, filters out bad sensor readings but it is important to have a good sensor coverage. However, it is equal important to have the extremes represented. E.g IDT on the north side of the building should be lower than on the south side. It may be rooms that are not representative by the majority of the rooms in the building. If five sensors are installed, use two to represents each side of the extremes and the other three as representative readings.\\n\\nOnboarding\\n\\nThe Service and units are provisioned via a Crossbreed support Web interface or via Crossbreed Simple APIs and the Customer needs to be on-/off boarded semi-/automatic by Crossbreed Service Desk.\\n\\nColophon\\n\\nThe Crossbreed AB Company\\n\\n© 2022 by Crossbreed AB\\n\\nPublished in the Crossbreed Build System\\n\\nThis information is produced by Crossbreed and is Copyright Crossbreed AB\\n\\n1. District Heating & Cooling\\n\\n2. This is required to drive network algorithms.\\n\\n3. There might be serval of these (e.g. one for each radiator or ventilation circuit)\\n\\n4. There might be serval of these (e.g. one for each radiator or ventilation circuit)\\n\\n5. A minimum of five indoor temperature sensors per building block. I worst case, it may handle sensor updates every one hour.\\n\\n6. Offset + Actual = Active (outdoor temperature). If this is\\n\\n7. Crossbreed Energy OS\\n\\nLast updated 2023-06-07 07:33:06 +0200' metadata={'source': 'data/user/cb-smarter-building-dhc-service-3.html'}\n"
     ]
    }
   ],
   "source": [
    "for doc in docs:\n",
    "    print(doc)"
   ]
  },
  {
   "cell_type": "markdown",
   "metadata": {},
   "source": [
    "## Use Recursive Character Splitter for HTML docs"
   ]
  },
  {
   "cell_type": "code",
   "execution_count": 46,
   "metadata": {},
   "outputs": [
    {
     "name": "stdout",
     "output_type": "stream",
     "text": [
      "page_content='Crossbreed Smarter Building DHC Service\\n\\nMario Toffia\\n\\nmario.toffia@crossbreed.se\\n\\nTable of Contents\\n\\nAbstract\\n\\nCapabilities Energy efficiency Operation of heating system Calculation\\n\\nProcesses Communication of Data-point from Controller Resolution Settings Algorithm\\n\\nSensors\\n\\nOnboarding\\n\\nColophon' metadata={'source': 'data/user/cb-smarter-building-dhc-service-3.html', 'start_index': 0}\n",
      "page_content='Sensors\\n\\nOnboarding\\n\\nColophon\\n\\nThis chapter outlines Crossbreed Smarter Building DHC [1] Service and the capabilities and processes connected to it.\\n\\nAbstract' metadata={'source': 'data/user/cb-smarter-building-dhc-service-3.html', 'start_index': 269}\n",
      "page_content='Abstract\\n\\nCrossbreed Smarter Building DHC, is an OEM service for district heating equipment providers offered to their customers, the property owners or energy operators, enabling energy optimization and monitoring of district heating systems in buildings.' metadata={'source': 'data/user/cb-smarter-building-dhc-service-3.html', 'start_index': 419}\n",
      "page_content='Thanks to a combination of different securely integrated data sources and embedded AI algorithms, the Service supports the heating system to reduce energy usage in buildings without renouncing comfort and indoor climate.' metadata={'source': 'data/user/cb-smarter-building-dhc-service-3.html', 'start_index': 677}\n",
      "page_content='Parallel to lowering the energy costs for building owners and providing better control of the heating system for the energy operator, the Service also reduces the buildings climate impact.' metadata={'source': 'data/user/cb-smarter-building-dhc-service-3.html', 'start_index': 899}\n",
      "page_content='The Service can be used for apartment buildings, commercial buildings, and other premises with district heating as heat source. With minor adjustments the solution could be adopted to thermal controller units supporting heat pumps, gas boilers or district cooling.\\n\\nCapabilities' metadata={'source': 'data/user/cb-smarter-building-dhc-service-3.html', 'start_index': 1089}\n",
      "page_content='Capabilities\\n\\nBy using multiple data sources and AI algorithms the Service reduces the energy demand (kWh) in the building, supporting the heating circuit to dynamically adapt to the real need of the property, instead of the static setting of the heating system (normally based only on the outdoor temperature).\\n\\nEnergy efficiency' metadata={'source': 'data/user/cb-smarter-building-dhc-service-3.html', 'start_index': 1355}\n",
      "page_content='Energy efficiency\\n\\nThe Service measures and analyses the buildings heating system and energy needs continuously and in real-time.' metadata={'source': 'data/user/cb-smarter-building-dhc-service-3.html', 'start_index': 1668}\n",
      "page_content='By analyzing and learning the buildings heating patterns, profile, and thermal storage capacity (thermal inertia), and by adding social and external factors like weather to the calculation, the system autonomously learns to use only the amount of energy actually needed. These intelligent operations will generate lower energy usage, with a retained comfortable indoor climate.' metadata={'source': 'data/user/cb-smarter-building-dhc-service-3.html', 'start_index': 1799}\n",
      "page_content='Operation of heating system' metadata={'source': 'data/user/cb-smarter-building-dhc-service-3.html', 'start_index': 2178}\n",
      "page_content='The Service uses the controller’s existing heating curve to influence the heating. This is done by the AI functionality of the Service calculating an offset value, normally an addition to the measured outdoor temperature, which shifts the set-point for supply temperature via the heating curve. In this way, the extraction of heat can be affected. The Service has safety functions that ensure that' metadata={'source': 'data/user/cb-smarter-building-dhc-service-3.html', 'start_index': 2207}\n",
      "page_content='this way, the extraction of heat can be affected. The Service has safety functions that ensure that the controller unit returns to regular temperature control (should the service for instance be offline).' metadata={'source': 'data/user/cb-smarter-building-dhc-service-3.html', 'start_index': 2505}\n",
      "page_content='— Heating-system Adaptation\\n\\nThe Service uses a predefined target temperature (i.e. 21 degrees with upper and lower boundaries) to dynamically adjust the heating so that the average indoor temperature is controlled towards this target temperature. The Service calculates the offset to adjust the heating approximately every 15 minutes.\\n\\nCalculation' metadata={'source': 'data/user/cb-smarter-building-dhc-service-3.html', 'start_index': 2711}\n",
      "page_content='Calculation\\n\\nThe Service uses the calculation methodology “Normal year correction using energy signature” as it gives the fairest energy optimization result. The energy saving is calculated as the difference between reference days (24 hours without the service controlling) and service days (24 hours with the service controlling). The savings are reported without heating for domestic hot water.' metadata={'source': 'data/user/cb-smarter-building-dhc-service-3.html', 'start_index': 3048}\n",
      "page_content='Processes' metadata={'source': 'data/user/cb-smarter-building-dhc-service-3.html', 'start_index': 3446}\n",
      "page_content='The Service imports a defined list of data points from the district heating substation, the heat meter and indoor sensors, and exports a control parameter, which is calculated using the list of data, external data sources and algorithms. The control parameter is used by the district heating substations to reduce heating to a level that corresponds to the buildings actual heat demand, as described' metadata={'source': 'data/user/cb-smarter-building-dhc-service-3.html', 'start_index': 3457}\n",
      "page_content='to reduce heating to a level that corresponds to the buildings actual heat demand, as described above.' metadata={'source': 'data/user/cb-smarter-building-dhc-service-3.html', 'start_index': 3761}\n",
      "page_content='Communication of Data-point from Controller\\n\\nThe service requires communication of the I/O-list as defined in table below. The unit-column describes the units used by the service. The interval column defines the required interval of data communication.' metadata={'source': 'data/user/cb-smarter-building-dhc-service-3.html', 'start_index': 3865}\n",
      "page_content='Name Remote ID CbID Unit Interval Direction Mandatory Comment Supply temperature primary side <fill in here> MPST °C ⇐ 1h → Yes Heat meter Return temperature primary side <fill in here> MPRT °C ⇐ 1h → Yes Heat meter Aggregated massflow primary side <fill in here> AMFPS m3/h ⇐ 1h → Yes Heat meter Massflow primary side <fill in here> MFPS m3 ⇐ 1h → Yes Heat meter Aggregated energy usage primary' metadata={'source': 'data/user/cb-smarter-building-dhc-service-3.html', 'start_index': 4119}\n",
      "page_content='Massflow primary side <fill in here> MFPS m3 ⇐ 1h → Yes Heat meter Aggregated energy usage primary side <fill in here> AEUPS kWh ⇐ 1h → Yes Heat meter Heat demand primary side <fill in here> HDPS kW ⇐ 1h → Yes Heat meter' metadata={'source': 'data/user/cb-smarter-building-dhc-service-3.html', 'start_index': 4416}\n",
      "page_content='The above table outlines the datapoints that are required to an evaluation of how much energy is saved by the service [2]. It is not, however, crucial for the building service to function. The interval is one hour or less but it is possible to e.g. collect this data every 24hours or so since they are used for regression analysis and not for real-time control.' metadata={'source': 'data/user/cb-smarter-building-dhc-service-3.html', 'start_index': 4638}\n",
      "page_content='That the ACTODT and OFFODT may be optional but a another way of controlling and monitoring the remote system is needed in that case.' metadata={'source': 'data/user/cb-smarter-building-dhc-service-3.html', 'start_index': 5001}\n",
      "page_content='Name Remote ID CbID Unit Interval Direction Mandatory Comment The real outdoor temperature <fill in here> ODT °C ⇐ 15min → Yes Real ODT Acting outdoor temperature <fill in here> ACTODT °C ⇐ 15min → Yes Fake ODT Supply temperature heating circuit <fill in here> SSHCT °C ⇐ 15min → Yes Controller [ 3 ] Return temperature heating circuit <fill in here> RSHCT °C ⇐ 15min → Yes Controller [ 4 ] Indoor' metadata={'source': 'data/user/cb-smarter-building-dhc-service-3.html', 'start_index': 5135}\n",
      "page_content='] Return temperature heating circuit <fill in here> RSHCT °C ⇐ 15min → Yes Controller [ 4 ] Indoor temperature <fill in here> IDT_O1..n °C ⇐ 15min → Yes Sensor data [ 5 ] Outdoor temperature offset <fill in here> OFFODT °C ⇐ 15min ← Yes The crossbreed offset control signal [ 6 ]' metadata={'source': 'data/user/cb-smarter-building-dhc-service-3.html', 'start_index': 5434}\n",
      "page_content='The IDT sensors should be at least five per building body. Thus, if the heating circuit passes three building bodies, 15 sensors (5 per each) are required. The control gets better up to 20 - 40 sensors, but it is not linear better, instead it provides less and less to the accuracy of the control.' metadata={'source': 'data/user/cb-smarter-building-dhc-service-3.html', 'start_index': 5715}\n",
      "page_content='If the ODT is missing, the service may use the location of the building and use weather service to get the ODT . This is not recommended since the ODT is a very important parameter for the service.\\n\\nResolution\\n\\nBelow table defines the required resolution per unit of measure.\\n\\nUnit Required Resolution °C 0.1 °C kW 0.1 kW kWh 0.1 kWh m3 0.1 m3 l/h 0.1 l/h' metadata={'source': 'data/user/cb-smarter-building-dhc-service-3.html', 'start_index': 6014}\n",
      "page_content='Unit Required Resolution °C 0.1 °C kW 0.1 kW kWh 0.1 kWh m3 0.1 m3 l/h 0.1 l/h\\n\\nThe control signal provided by the Service is limited in magnitude according to: -12 °C ≤ Outdoor temperature offset ≤ +12 °C.\\n\\nCEOS [7] have the ability to translate different Units if required.\\n\\nSettings' metadata={'source': 'data/user/cb-smarter-building-dhc-service-3.html', 'start_index': 6291}\n",
      "page_content='CEOS [7] have the ability to translate different Units if required.\\n\\nSettings\\n\\nThe following settings are required by the Service. The settings are defined as part of the provisioning of a specific customer installation.' metadata={'source': 'data/user/cb-smarter-building-dhc-service-3.html', 'start_index': 6499}\n",
      "page_content='Settings Description Target Temperature Desired average indoor temperature Limit low The limit in indoor temperature under which the Service will not send a control signal (if any indoor sensor that is part of the control is below this limit, it is not desireable to reduce heating further). Shorter periods below this limit is allowed by the algorithm. Balance temperature The limit outdoor' metadata={'source': 'data/user/cb-smarter-building-dhc-service-3.html', 'start_index': 6721}\n",
      "page_content='Shorter periods below this limit is allowed by the algorithm. Balance temperature The limit outdoor temperature above which the heating system will not provider heating to the building. This is a setting the substation controller, normally defined by the temperature program.' metadata={'source': 'data/user/cb-smarter-building-dhc-service-3.html', 'start_index': 7013}\n",
      "page_content='It is great if the remote endpoint do provide with these as data points or configuration that the user may change. In that way, CEOS may ingest those, live, and alter the control signal accordingly.\\n\\nAlgorithm' metadata={'source': 'data/user/cb-smarter-building-dhc-service-3.html', 'start_index': 7290}\n",
      "page_content='The algorithm calculates the control signal based on the I/O-list, the settings described in Table 3, and outdoor temperature forecasts. The algorithm determines if it is possible to reduce heating, and how much, based on its inputs, historical data and forecast data. The control signal is used to reduce heating only, (i.e., heating is not increased by the Service). The actions of the algorithm' metadata={'source': 'data/user/cb-smarter-building-dhc-service-3.html', 'start_index': 7501}\n",
      "page_content='reduce heating only, (i.e., heating is not increased by the Service). The actions of the algorithm are described in below table.' metadata={'source': 'data/user/cb-smarter-building-dhc-service-3.html', 'start_index': 7800}\n",
      "page_content='Action Reason Control against target Indoor temperature within boundary Max control intensity Indoor temperature is high Control hysteresis Delayed control. Indoor temperature dips during a short time. Rollback Rolling back to no offset (slope based) No control action Missing data or indoor temperature too low during too long time.\\n\\nSensors' metadata={'source': 'data/user/cb-smarter-building-dhc-service-3.html', 'start_index': 7930}\n",
      "page_content='Sensors\\n\\nThe sensor data is processed in a machine learning algorithm. Most notable is the climate data points where the IDT sensors are calculated using a normal distribution curve. Hence, it is important to install sensors so they have extremes and in the middle most of the sensors providing with representative data points.\\n\\nFigure 1. Indoor Climate Distribution' metadata={'source': 'data/user/cb-smarter-building-dhc-service-3.html', 'start_index': 8265}\n",
      "page_content='The algorithms, filters out bad sensor readings but it is important to have a good sensor coverage. However, it is equal important to have the extremes represented. E.g IDT on the north side of the building should be lower than on the south side. It may be rooms that are not representative by the majority of the rooms in the building. If five sensors are installed, use two to represents each side' metadata={'source': 'data/user/cb-smarter-building-dhc-service-3.html', 'start_index': 8633}\n",
      "page_content='of the rooms in the building. If five sensors are installed, use two to represents each side of the extremes and the other three as representative readings.' metadata={'source': 'data/user/cb-smarter-building-dhc-service-3.html', 'start_index': 8940}\n",
      "page_content='Onboarding\\n\\nThe Service and units are provisioned via a Crossbreed support Web interface or via Crossbreed Simple APIs and the Customer needs to be on-/off boarded semi-/automatic by Crossbreed Service Desk.\\n\\nColophon\\n\\nThe Crossbreed AB Company\\n\\n© 2022 by Crossbreed AB\\n\\nPublished in the Crossbreed Build System\\n\\nThis information is produced by Crossbreed and is Copyright Crossbreed AB' metadata={'source': 'data/user/cb-smarter-building-dhc-service-3.html', 'start_index': 9098}\n",
      "page_content='This information is produced by Crossbreed and is Copyright Crossbreed AB\\n\\n1. District Heating & Cooling\\n\\n2. This is required to drive network algorithms.\\n\\n3. There might be serval of these (e.g. one for each radiator or ventilation circuit)\\n\\n4. There might be serval of these (e.g. one for each radiator or ventilation circuit)' metadata={'source': 'data/user/cb-smarter-building-dhc-service-3.html', 'start_index': 9411}\n",
      "page_content='4. There might be serval of these (e.g. one for each radiator or ventilation circuit)\\n\\n5. A minimum of five indoor temperature sensors per building block. I worst case, it may handle sensor updates every one hour.\\n\\n6. Offset + Actual = Active (outdoor temperature). If this is\\n\\n7. Crossbreed Energy OS\\n\\nLast updated 2023-06-07 07:33:06 +0200' metadata={'source': 'data/user/cb-smarter-building-dhc-service-3.html', 'start_index': 9654}\n"
     ]
    }
   ],
   "source": [
    "text_splitter = RecursiveCharacterTextSplitter(chunk_size=400, chunk_overlap=100, add_start_index=True)\n",
    "splits = text_splitter.split_documents(docs)\n",
    "\n",
    "for split in splits:\n",
    "    print(split)"
   ]
  },
  {
   "cell_type": "markdown",
   "metadata": {},
   "source": [
    "## Load the docs into chroma db"
   ]
  },
  {
   "cell_type": "code",
   "execution_count": 49,
   "metadata": {},
   "outputs": [
    {
     "name": "stdout",
     "output_type": "stream",
     "text": [
      "['2dccf0ac-ba9d-5970-b5ac-c58a64f89ff6', '9183f1f9-1fb0-5fd8-95ce-e07819bb2bae', '57954a24-723c-5d65-95d0-1b2382456819', 'c4743e1e-adc8-5aaf-946e-87af1053fa08', '7ed61562-828a-566f-aef8-c32e22ce283d', 'd06de873-e2a0-57ea-bff1-353704a60763', '3c4c1d68-abb8-59d4-a381-a615a22fb6f9', '9cbc2e17-9d47-5720-92b3-aca47ed31c1e', '5a1a143d-05a6-5202-ab30-2c5aa5aecbb5', '4c7aeef1-7f33-5ca5-892a-eb59e10e6fca', '2f35a3b3-e0cd-5eae-b2bb-5d77240a9b41', '37effc08-2e41-5168-a905-3f36e8eb0a96', '1a055656-a4c9-5a0f-851d-2eedb111d8cf', '84139345-41c1-5b26-8ace-79be95056048', 'cc292c7e-7b80-50e6-bff0-5609a85390e5', 'a6c7c2bd-97b1-5b8e-a69d-704276d7c3ac', '19d9be82-e44d-5425-a103-0fa00491ff09', 'b15fd2a1-ce8a-5002-a19a-6f3e117b7be4', 'f10846c6-4518-5c7e-8f41-37442b38ca1c', 'b41b6364-6f53-51d2-a6ae-31fea0b24b51', 'f3b95746-917a-546f-9202-1496444560ae', '00961037-e281-5251-b2c3-2c0a015544c6', '01586272-13ca-5455-98e6-ac7a7b50ed38', '87ba0213-2a56-5839-b5a4-5230ccb514b8', '6127082b-5022-5515-9c97-f406a8ab638a', 'cd53d328-c63b-53cc-97a2-49d1f574156f', 'da1502ef-e07f-56b5-a180-ba781b2a6ae6', '1a2ac95a-b663-5030-9e56-c5837fbbe0ec', 'a7a05f6f-c72f-52ef-83a6-06401d4fa213', '2efbb32d-4ffe-556e-9ef6-68fa02227458', '264f68e8-5b34-556e-8e35-8035492e4ca5', '182932cd-be54-5129-95ba-8facc003e1fc', '1a636a9e-5c13-5805-852c-7b1d3a9149ab', '248e298e-f234-5a08-a558-4c440d81ae08', '17f2000f-1bdd-5de9-a542-93ece77e05cb', 'a03fb97e-35ff-5d02-8d6c-66b3676eabd9', 'b33143d6-2139-5abb-b303-9fde63c83686', '477b3c5c-ad04-5e0d-970f-4a81bcebd64a', 'bb41af95-c2a7-515e-811d-5bf25bc78253', '002b4b6f-6019-52fe-a625-410f43fa547c']\n"
     ]
    }
   ],
   "source": [
    "import uuid\n",
    "\n",
    "embeddings = OpenAIEmbeddings(openai_api_key=os.environ[\"OPENAI_API_KEY\"])\n",
    "\n",
    "# Create a list of unique ids for each document based on the content\n",
    "ids = [str(uuid.uuid5(uuid.NAMESPACE_DNS, splits.page_content)) for splits in splits]\n",
    "unique_ids = list(set(ids))\n",
    "print(unique_ids)\n",
    "# Ensure that only docs that correspond to unique ids are kept and that only \n",
    "# one of the duplicate ids is kept\n",
    "seen_ids = set()\n",
    "unique_docs = [splits for splits, id in zip(splits, ids) if id not in seen_ids and (seen_ids.add(id) or True)]\n",
    "\n",
    "# Add the unique documents to your database\n",
    "db = Chroma.from_documents(unique_docs, embeddings, ids=unique_ids)"
   ]
  },
  {
   "cell_type": "markdown",
   "metadata": {},
   "source": [
    "## Try to retrieve the docs from chroma db"
   ]
  },
  {
   "cell_type": "code",
   "execution_count": 87,
   "metadata": {},
   "outputs": [],
   "source": [
    "retriever = db.as_retriever(search_type=\"similarity\", search_kwargs={\"k\": 6})\n",
    "\n",
    "def search(query):\n",
    "    result = retriever.get_relevant_documents(query)\n",
    "    filtered_result = []\n",
    "    seen_ids = set()\n",
    "\n",
    "    for res in result:\n",
    "        if str(uuid.uuid5(uuid.NAMESPACE_DNS, res.page_content)) not in seen_ids:\n",
    "            filtered_result.append(res)\n",
    "            seen_ids.add(str(uuid.uuid5(uuid.NAMESPACE_DNS, res.page_content)))\n",
    "    \n",
    "    return filtered_result\n",
    "\n",
    "def search_text(query) -> str:\n",
    "    text = \"\"\n",
    "    for res in search(query):\n",
    "        text += res.page_content + \"\\n\"\n",
    "    return text\n"
   ]
  },
  {
   "cell_type": "markdown",
   "metadata": {},
   "source": [
    "## Create Chat Prompt"
   ]
  },
  {
   "cell_type": "code",
   "execution_count": 90,
   "metadata": {},
   "outputs": [],
   "source": [
    "from langchain.prompts import ChatPromptTemplate\n",
    "\n",
    "template = \"\"\"{context}\n",
    "\n",
    "------------------\n",
    "Using the context above, please answer the following question:\n",
    "\n",
    "Question: {question}\n",
    "\"\"\"\n",
    "\n",
    "prompt = ChatPromptTemplate.from_template(template)"
   ]
  },
  {
   "cell_type": "markdown",
   "metadata": {},
   "source": [
    "## Create Chain"
   ]
  },
  {
   "cell_type": "code",
   "execution_count": 92,
   "metadata": {},
   "outputs": [
    {
     "name": "stdout",
     "output_type": "stream",
     "text": [
      "\u001b[32;1m\u001b[1;3m[chain/start]\u001b[0m \u001b[1m[1:chain:RunnableSequence] Entering Chain run with input:\n",
      "\u001b[0m{\n",
      "  \"question\": \"Which datapoints are for primary circuit?\"\n",
      "}\n",
      "\u001b[32;1m\u001b[1;3m[chain/start]\u001b[0m \u001b[1m[1:chain:RunnableSequence > 2:chain:RunnableParallel] Entering Chain run with input:\n",
      "\u001b[0m{\n",
      "  \"question\": \"Which datapoints are for primary circuit?\"\n",
      "}\n",
      "\u001b[32;1m\u001b[1;3m[chain/start]\u001b[0m \u001b[1m[1:chain:RunnableSequence > 2:chain:RunnableParallel > 3:chain:<lambda>] Entering Chain run with input:\n",
      "\u001b[0m{\n",
      "  \"question\": \"Which datapoints are for primary circuit?\"\n",
      "}\n",
      "\u001b[32;1m\u001b[1;3m[chain/start]\u001b[0m \u001b[1m[1:chain:RunnableSequence > 2:chain:RunnableParallel > 4:chain:<lambda>] Entering Chain run with input:\n",
      "\u001b[0m{\n",
      "  \"question\": \"Which datapoints are for primary circuit?\"\n",
      "}\n",
      "\u001b[36;1m\u001b[1;3m[chain/end]\u001b[0m \u001b[1m[1:chain:RunnableSequence > 2:chain:RunnableParallel > 4:chain:<lambda>] [0ms] Exiting Chain run with output:\n",
      "\u001b[0m{\n",
      "  \"output\": \"Which datapoints are for primary circuit?\"\n",
      "}\n",
      "\u001b[36;1m\u001b[1;3m[chain/end]\u001b[0m \u001b[1m[1:chain:RunnableSequence > 2:chain:RunnableParallel > 3:chain:<lambda>] [250ms] Exiting Chain run with output:\n",
      "\u001b[0m{\n",
      "  \"output\": \"Name Remote ID CbID Unit Interval Direction Mandatory Comment Supply temperature primary side <fill in here> MPST °C ⇐ 1h → Yes Heat meter Return temperature primary side <fill in here> MPRT °C ⇐ 1h → Yes Heat meter Aggregated massflow primary side <fill in here> AMFPS m3/h ⇐ 1h → Yes Heat meter Massflow primary side <fill in here> MFPS m3 ⇐ 1h → Yes Heat meter Aggregated energy usage primary\\nMassflow primary side <fill in here> MFPS m3 ⇐ 1h → Yes Heat meter Aggregated energy usage primary side <fill in here> AEUPS kWh ⇐ 1h → Yes Heat meter Heat demand primary side <fill in here> HDPS kW ⇐ 1h → Yes Heat meter\\n\"\n",
      "}\n",
      "\u001b[36;1m\u001b[1;3m[chain/end]\u001b[0m \u001b[1m[1:chain:RunnableSequence > 2:chain:RunnableParallel] [252ms] Exiting Chain run with output:\n",
      "\u001b[0m{\n",
      "  \"context\": \"Name Remote ID CbID Unit Interval Direction Mandatory Comment Supply temperature primary side <fill in here> MPST °C ⇐ 1h → Yes Heat meter Return temperature primary side <fill in here> MPRT °C ⇐ 1h → Yes Heat meter Aggregated massflow primary side <fill in here> AMFPS m3/h ⇐ 1h → Yes Heat meter Massflow primary side <fill in here> MFPS m3 ⇐ 1h → Yes Heat meter Aggregated energy usage primary\\nMassflow primary side <fill in here> MFPS m3 ⇐ 1h → Yes Heat meter Aggregated energy usage primary side <fill in here> AEUPS kWh ⇐ 1h → Yes Heat meter Heat demand primary side <fill in here> HDPS kW ⇐ 1h → Yes Heat meter\\n\",\n",
      "  \"benke\": \"Which datapoints are for primary circuit?\"\n",
      "}\n",
      "\u001b[32;1m\u001b[1;3m[chain/start]\u001b[0m \u001b[1m[1:chain:RunnableSequence > 5:prompt:ChatPromptTemplate] Entering Prompt run with input:\n",
      "\u001b[0m{\n",
      "  \"question\": \"Which datapoints are for primary circuit?\",\n",
      "  \"context\": \"Name Remote ID CbID Unit Interval Direction Mandatory Comment Supply temperature primary side <fill in here> MPST °C ⇐ 1h → Yes Heat meter Return temperature primary side <fill in here> MPRT °C ⇐ 1h → Yes Heat meter Aggregated massflow primary side <fill in here> AMFPS m3/h ⇐ 1h → Yes Heat meter Massflow primary side <fill in here> MFPS m3 ⇐ 1h → Yes Heat meter Aggregated energy usage primary\\nMassflow primary side <fill in here> MFPS m3 ⇐ 1h → Yes Heat meter Aggregated energy usage primary side <fill in here> AEUPS kWh ⇐ 1h → Yes Heat meter Heat demand primary side <fill in here> HDPS kW ⇐ 1h → Yes Heat meter\\n\",\n",
      "  \"benke\": \"Which datapoints are for primary circuit?\"\n",
      "}\n",
      "\u001b[36;1m\u001b[1;3m[chain/end]\u001b[0m \u001b[1m[1:chain:RunnableSequence > 5:prompt:ChatPromptTemplate] [0ms] Exiting Prompt run with output:\n",
      "\u001b[0m{\n",
      "  \"lc\": 1,\n",
      "  \"type\": \"constructor\",\n",
      "  \"id\": [\n",
      "    \"langchain\",\n",
      "    \"prompts\",\n",
      "    \"chat\",\n",
      "    \"ChatPromptValue\"\n",
      "  ],\n",
      "  \"kwargs\": {\n",
      "    \"messages\": [\n",
      "      {\n",
      "        \"lc\": 1,\n",
      "        \"type\": \"constructor\",\n",
      "        \"id\": [\n",
      "          \"langchain\",\n",
      "          \"schema\",\n",
      "          \"messages\",\n",
      "          \"HumanMessage\"\n",
      "        ],\n",
      "        \"kwargs\": {\n",
      "          \"content\": \"Name Remote ID CbID Unit Interval Direction Mandatory Comment Supply temperature primary side <fill in here> MPST °C ⇐ 1h → Yes Heat meter Return temperature primary side <fill in here> MPRT °C ⇐ 1h → Yes Heat meter Aggregated massflow primary side <fill in here> AMFPS m3/h ⇐ 1h → Yes Heat meter Massflow primary side <fill in here> MFPS m3 ⇐ 1h → Yes Heat meter Aggregated energy usage primary\\nMassflow primary side <fill in here> MFPS m3 ⇐ 1h → Yes Heat meter Aggregated energy usage primary side <fill in here> AEUPS kWh ⇐ 1h → Yes Heat meter Heat demand primary side <fill in here> HDPS kW ⇐ 1h → Yes Heat meter\\n\\n\\n------------------\\nUsing the context above, please answer the following question:\\n\\nQuestion: Which datapoints are for primary circuit?\\n\",\n",
      "          \"additional_kwargs\": {}\n",
      "        }\n",
      "      }\n",
      "    ]\n",
      "  }\n",
      "}\n",
      "\u001b[32;1m\u001b[1;3m[llm/start]\u001b[0m \u001b[1m[1:chain:RunnableSequence > 6:llm:ChatOpenAI] Entering LLM run with input:\n",
      "\u001b[0m{\n",
      "  \"prompts\": [\n",
      "    \"Human: Name Remote ID CbID Unit Interval Direction Mandatory Comment Supply temperature primary side <fill in here> MPST °C ⇐ 1h → Yes Heat meter Return temperature primary side <fill in here> MPRT °C ⇐ 1h → Yes Heat meter Aggregated massflow primary side <fill in here> AMFPS m3/h ⇐ 1h → Yes Heat meter Massflow primary side <fill in here> MFPS m3 ⇐ 1h → Yes Heat meter Aggregated energy usage primary\\nMassflow primary side <fill in here> MFPS m3 ⇐ 1h → Yes Heat meter Aggregated energy usage primary side <fill in here> AEUPS kWh ⇐ 1h → Yes Heat meter Heat demand primary side <fill in here> HDPS kW ⇐ 1h → Yes Heat meter\\n\\n\\n------------------\\nUsing the context above, please answer the following question:\\n\\nQuestion: Which datapoints are for primary circuit?\"\n",
      "  ]\n",
      "}\n",
      "\u001b[36;1m\u001b[1;3m[llm/end]\u001b[0m \u001b[1m[1:chain:RunnableSequence > 6:llm:ChatOpenAI] [5.75s] Exiting LLM run with output:\n",
      "\u001b[0m{\n",
      "  \"generations\": [\n",
      "    [\n",
      "      {\n",
      "        \"text\": \"The datapoints for the primary circuit are Supply temperature primary side, Return temperature primary side, Aggregated massflow primary side, Massflow primary side, Aggregated energy usage primary side, and Heat demand primary side.\",\n",
      "        \"generation_info\": {\n",
      "          \"finish_reason\": \"stop\"\n",
      "        },\n",
      "        \"type\": \"ChatGeneration\",\n",
      "        \"message\": {\n",
      "          \"lc\": 1,\n",
      "          \"type\": \"constructor\",\n",
      "          \"id\": [\n",
      "            \"langchain\",\n",
      "            \"schema\",\n",
      "            \"messages\",\n",
      "            \"AIMessage\"\n",
      "          ],\n",
      "          \"kwargs\": {\n",
      "            \"content\": \"The datapoints for the primary circuit are Supply temperature primary side, Return temperature primary side, Aggregated massflow primary side, Massflow primary side, Aggregated energy usage primary side, and Heat demand primary side.\",\n",
      "            \"additional_kwargs\": {}\n",
      "          }\n",
      "        }\n",
      "      }\n",
      "    ]\n",
      "  ],\n",
      "  \"llm_output\": {\n",
      "    \"token_usage\": {\n",
      "      \"completion_tokens\": 43,\n",
      "      \"prompt_tokens\": 205,\n",
      "      \"total_tokens\": 248\n",
      "    },\n",
      "    \"model_name\": \"gpt-4\",\n",
      "    \"system_fingerprint\": null\n",
      "  },\n",
      "  \"run\": null\n",
      "}\n",
      "\u001b[32;1m\u001b[1;3m[chain/start]\u001b[0m \u001b[1m[1:chain:RunnableSequence > 7:parser:StrOutputParser] Entering Parser run with input:\n",
      "\u001b[0m[inputs]\n",
      "\u001b[36;1m\u001b[1;3m[chain/end]\u001b[0m \u001b[1m[1:chain:RunnableSequence > 7:parser:StrOutputParser] [0ms] Exiting Parser run with output:\n",
      "\u001b[0m{\n",
      "  \"output\": \"The datapoints for the primary circuit are Supply temperature primary side, Return temperature primary side, Aggregated massflow primary side, Massflow primary side, Aggregated energy usage primary side, and Heat demand primary side.\"\n",
      "}\n",
      "\u001b[36;1m\u001b[1;3m[chain/end]\u001b[0m \u001b[1m[1:chain:RunnableSequence] [6.00s] Exiting Chain run with output:\n",
      "\u001b[0m{\n",
      "  \"output\": \"The datapoints for the primary circuit are Supply temperature primary side, Return temperature primary side, Aggregated massflow primary side, Massflow primary side, Aggregated energy usage primary side, and Heat demand primary side.\"\n",
      "}\n"
     ]
    },
    {
     "data": {
      "text/plain": [
       "'The datapoints for the primary circuit are Supply temperature primary side, Return temperature primary side, Aggregated massflow primary side, Massflow primary side, Aggregated energy usage primary side, and Heat demand primary side.'"
      ]
     },
     "execution_count": 92,
     "metadata": {},
     "output_type": "execute_result"
    }
   ],
   "source": [
    "from langchain.chat_models import ChatOpenAI\n",
    "from langchain.schema.output_parser import StrOutputParser\n",
    "from langchain.globals import set_debug, set_verbose\n",
    "from langchain.schema.runnable import RunnablePassthrough\n",
    "\n",
    "set_debug(True)\n",
    "set_verbose(True)\n",
    "\n",
    "chain = RunnablePassthrough.assign(\n",
    "  context=lambda x: search_text(x[\"question\"])\n",
    ") | prompt | ChatOpenAI(model=\"gpt-4\", temperature=0) | StrOutputParser()\n",
    "\n",
    "chain.invoke({  \n",
    "  \"question\": \"Which datapoints are for primary circuit?\",\n",
    "})"
   ]
  }
 ],
 "metadata": {
  "kernelspec": {
   "display_name": "chainlit",
   "language": "python",
   "name": "python3"
  },
  "language_info": {
   "codemirror_mode": {
    "name": "ipython",
    "version": 3
   },
   "file_extension": ".py",
   "mimetype": "text/x-python",
   "name": "python",
   "nbconvert_exporter": "python",
   "pygments_lexer": "ipython3",
   "version": "3.11.6"
  }
 },
 "nbformat": 4,
 "nbformat_minor": 2
}
